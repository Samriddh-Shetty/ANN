{
 "cells": [
  {
   "cell_type": "code",
   "execution_count": 1,
   "id": "90cddcd8",
   "metadata": {},
   "outputs": [
    {
     "name": "stderr",
     "output_type": "stream",
     "text": [
      "C:\\Users\\Admin\\Downloads\\anaconda\\lib\\site-packages\\scipy\\__init__.py:155: UserWarning: A NumPy version >=1.18.5 and <1.25.0 is required for this version of SciPy (detected version 1.26.1\n",
      "  warnings.warn(f\"A NumPy version >={np_minversion} and <{np_maxversion}\"\n"
     ]
    }
   ],
   "source": [
    "import numpy as np\n",
    "import pandas as pd\n",
    "import matplotlib.pyplot as plt\n",
    "import seaborn as sns\n",
    "\n",
    "%matplotlib inline\n",
    "\n",
    "import warnings\n",
    "warnings.filterwarnings('ignore')"
   ]
  },
  {
   "cell_type": "code",
   "execution_count": 2,
   "id": "373002f0",
   "metadata": {},
   "outputs": [],
   "source": [
    "df=pd.read_csv(\"prices.csv\")"
   ]
  },
  {
   "cell_type": "code",
   "execution_count": 3,
   "id": "2e26ff44",
   "metadata": {},
   "outputs": [
    {
     "data": {
      "text/html": [
       "<div>\n",
       "<style scoped>\n",
       "    .dataframe tbody tr th:only-of-type {\n",
       "        vertical-align: middle;\n",
       "    }\n",
       "\n",
       "    .dataframe tbody tr th {\n",
       "        vertical-align: top;\n",
       "    }\n",
       "\n",
       "    .dataframe thead th {\n",
       "        text-align: right;\n",
       "    }\n",
       "</style>\n",
       "<table border=\"1\" class=\"dataframe\">\n",
       "  <thead>\n",
       "    <tr style=\"text-align: right;\">\n",
       "      <th></th>\n",
       "      <th>date</th>\n",
       "      <th>symbol</th>\n",
       "      <th>open</th>\n",
       "      <th>close</th>\n",
       "      <th>low</th>\n",
       "      <th>high</th>\n",
       "      <th>volume</th>\n",
       "    </tr>\n",
       "  </thead>\n",
       "  <tbody>\n",
       "    <tr>\n",
       "      <th>0</th>\n",
       "      <td>2016-01-05 00:00:00</td>\n",
       "      <td>WLTW</td>\n",
       "      <td>123.430000</td>\n",
       "      <td>125.839996</td>\n",
       "      <td>122.309998</td>\n",
       "      <td>126.250000</td>\n",
       "      <td>2163600.0</td>\n",
       "    </tr>\n",
       "    <tr>\n",
       "      <th>1</th>\n",
       "      <td>2016-01-06 00:00:00</td>\n",
       "      <td>WLTW</td>\n",
       "      <td>125.239998</td>\n",
       "      <td>119.980003</td>\n",
       "      <td>119.940002</td>\n",
       "      <td>125.540001</td>\n",
       "      <td>2386400.0</td>\n",
       "    </tr>\n",
       "    <tr>\n",
       "      <th>2</th>\n",
       "      <td>2016-01-07 00:00:00</td>\n",
       "      <td>WLTW</td>\n",
       "      <td>116.379997</td>\n",
       "      <td>114.949997</td>\n",
       "      <td>114.930000</td>\n",
       "      <td>119.739998</td>\n",
       "      <td>2489500.0</td>\n",
       "    </tr>\n",
       "    <tr>\n",
       "      <th>3</th>\n",
       "      <td>2016-01-08 00:00:00</td>\n",
       "      <td>WLTW</td>\n",
       "      <td>115.480003</td>\n",
       "      <td>116.620003</td>\n",
       "      <td>113.500000</td>\n",
       "      <td>117.440002</td>\n",
       "      <td>2006300.0</td>\n",
       "    </tr>\n",
       "    <tr>\n",
       "      <th>4</th>\n",
       "      <td>2016-01-11 00:00:00</td>\n",
       "      <td>WLTW</td>\n",
       "      <td>117.010002</td>\n",
       "      <td>114.970001</td>\n",
       "      <td>114.089996</td>\n",
       "      <td>117.330002</td>\n",
       "      <td>1408600.0</td>\n",
       "    </tr>\n",
       "    <tr>\n",
       "      <th>...</th>\n",
       "      <td>...</td>\n",
       "      <td>...</td>\n",
       "      <td>...</td>\n",
       "      <td>...</td>\n",
       "      <td>...</td>\n",
       "      <td>...</td>\n",
       "      <td>...</td>\n",
       "    </tr>\n",
       "    <tr>\n",
       "      <th>851259</th>\n",
       "      <td>2016-12-30</td>\n",
       "      <td>ZBH</td>\n",
       "      <td>103.309998</td>\n",
       "      <td>103.199997</td>\n",
       "      <td>102.849998</td>\n",
       "      <td>103.930000</td>\n",
       "      <td>973800.0</td>\n",
       "    </tr>\n",
       "    <tr>\n",
       "      <th>851260</th>\n",
       "      <td>2016-12-30</td>\n",
       "      <td>ZION</td>\n",
       "      <td>43.070000</td>\n",
       "      <td>43.040001</td>\n",
       "      <td>42.689999</td>\n",
       "      <td>43.310001</td>\n",
       "      <td>1938100.0</td>\n",
       "    </tr>\n",
       "    <tr>\n",
       "      <th>851261</th>\n",
       "      <td>2016-12-30</td>\n",
       "      <td>ZTS</td>\n",
       "      <td>53.639999</td>\n",
       "      <td>53.529999</td>\n",
       "      <td>53.270000</td>\n",
       "      <td>53.740002</td>\n",
       "      <td>1701200.0</td>\n",
       "    </tr>\n",
       "    <tr>\n",
       "      <th>851262</th>\n",
       "      <td>2016-12-30 00:00:00</td>\n",
       "      <td>AIV</td>\n",
       "      <td>44.730000</td>\n",
       "      <td>45.450001</td>\n",
       "      <td>44.410000</td>\n",
       "      <td>45.590000</td>\n",
       "      <td>1380900.0</td>\n",
       "    </tr>\n",
       "    <tr>\n",
       "      <th>851263</th>\n",
       "      <td>2016-12-30 00:00:00</td>\n",
       "      <td>FTV</td>\n",
       "      <td>54.200001</td>\n",
       "      <td>53.630001</td>\n",
       "      <td>53.389999</td>\n",
       "      <td>54.480000</td>\n",
       "      <td>705100.0</td>\n",
       "    </tr>\n",
       "  </tbody>\n",
       "</table>\n",
       "<p>851264 rows × 7 columns</p>\n",
       "</div>"
      ],
      "text/plain": [
       "                       date symbol        open       close         low  \\\n",
       "0       2016-01-05 00:00:00   WLTW  123.430000  125.839996  122.309998   \n",
       "1       2016-01-06 00:00:00   WLTW  125.239998  119.980003  119.940002   \n",
       "2       2016-01-07 00:00:00   WLTW  116.379997  114.949997  114.930000   \n",
       "3       2016-01-08 00:00:00   WLTW  115.480003  116.620003  113.500000   \n",
       "4       2016-01-11 00:00:00   WLTW  117.010002  114.970001  114.089996   \n",
       "...                     ...    ...         ...         ...         ...   \n",
       "851259           2016-12-30    ZBH  103.309998  103.199997  102.849998   \n",
       "851260           2016-12-30   ZION   43.070000   43.040001   42.689999   \n",
       "851261           2016-12-30    ZTS   53.639999   53.529999   53.270000   \n",
       "851262  2016-12-30 00:00:00    AIV   44.730000   45.450001   44.410000   \n",
       "851263  2016-12-30 00:00:00    FTV   54.200001   53.630001   53.389999   \n",
       "\n",
       "              high     volume  \n",
       "0       126.250000  2163600.0  \n",
       "1       125.540001  2386400.0  \n",
       "2       119.739998  2489500.0  \n",
       "3       117.440002  2006300.0  \n",
       "4       117.330002  1408600.0  \n",
       "...            ...        ...  \n",
       "851259  103.930000   973800.0  \n",
       "851260   43.310001  1938100.0  \n",
       "851261   53.740002  1701200.0  \n",
       "851262   45.590000  1380900.0  \n",
       "851263   54.480000   705100.0  \n",
       "\n",
       "[851264 rows x 7 columns]"
      ]
     },
     "execution_count": 3,
     "metadata": {},
     "output_type": "execute_result"
    }
   ],
   "source": [
    "df"
   ]
  },
  {
   "cell_type": "code",
   "execution_count": 4,
   "id": "9ec84f20",
   "metadata": {},
   "outputs": [],
   "source": [
    "df.drop([\"date\"],inplace=True,axis=1)"
   ]
  },
  {
   "cell_type": "code",
   "execution_count": 5,
   "id": "e7e83138",
   "metadata": {},
   "outputs": [
    {
     "data": {
      "text/html": [
       "<div>\n",
       "<style scoped>\n",
       "    .dataframe tbody tr th:only-of-type {\n",
       "        vertical-align: middle;\n",
       "    }\n",
       "\n",
       "    .dataframe tbody tr th {\n",
       "        vertical-align: top;\n",
       "    }\n",
       "\n",
       "    .dataframe thead th {\n",
       "        text-align: right;\n",
       "    }\n",
       "</style>\n",
       "<table border=\"1\" class=\"dataframe\">\n",
       "  <thead>\n",
       "    <tr style=\"text-align: right;\">\n",
       "      <th></th>\n",
       "      <th>symbol</th>\n",
       "      <th>open</th>\n",
       "      <th>close</th>\n",
       "      <th>low</th>\n",
       "      <th>high</th>\n",
       "      <th>volume</th>\n",
       "    </tr>\n",
       "  </thead>\n",
       "  <tbody>\n",
       "    <tr>\n",
       "      <th>0</th>\n",
       "      <td>WLTW</td>\n",
       "      <td>123.430000</td>\n",
       "      <td>125.839996</td>\n",
       "      <td>122.309998</td>\n",
       "      <td>126.250000</td>\n",
       "      <td>2163600.0</td>\n",
       "    </tr>\n",
       "    <tr>\n",
       "      <th>1</th>\n",
       "      <td>WLTW</td>\n",
       "      <td>125.239998</td>\n",
       "      <td>119.980003</td>\n",
       "      <td>119.940002</td>\n",
       "      <td>125.540001</td>\n",
       "      <td>2386400.0</td>\n",
       "    </tr>\n",
       "    <tr>\n",
       "      <th>2</th>\n",
       "      <td>WLTW</td>\n",
       "      <td>116.379997</td>\n",
       "      <td>114.949997</td>\n",
       "      <td>114.930000</td>\n",
       "      <td>119.739998</td>\n",
       "      <td>2489500.0</td>\n",
       "    </tr>\n",
       "    <tr>\n",
       "      <th>3</th>\n",
       "      <td>WLTW</td>\n",
       "      <td>115.480003</td>\n",
       "      <td>116.620003</td>\n",
       "      <td>113.500000</td>\n",
       "      <td>117.440002</td>\n",
       "      <td>2006300.0</td>\n",
       "    </tr>\n",
       "    <tr>\n",
       "      <th>4</th>\n",
       "      <td>WLTW</td>\n",
       "      <td>117.010002</td>\n",
       "      <td>114.970001</td>\n",
       "      <td>114.089996</td>\n",
       "      <td>117.330002</td>\n",
       "      <td>1408600.0</td>\n",
       "    </tr>\n",
       "    <tr>\n",
       "      <th>...</th>\n",
       "      <td>...</td>\n",
       "      <td>...</td>\n",
       "      <td>...</td>\n",
       "      <td>...</td>\n",
       "      <td>...</td>\n",
       "      <td>...</td>\n",
       "    </tr>\n",
       "    <tr>\n",
       "      <th>851259</th>\n",
       "      <td>ZBH</td>\n",
       "      <td>103.309998</td>\n",
       "      <td>103.199997</td>\n",
       "      <td>102.849998</td>\n",
       "      <td>103.930000</td>\n",
       "      <td>973800.0</td>\n",
       "    </tr>\n",
       "    <tr>\n",
       "      <th>851260</th>\n",
       "      <td>ZION</td>\n",
       "      <td>43.070000</td>\n",
       "      <td>43.040001</td>\n",
       "      <td>42.689999</td>\n",
       "      <td>43.310001</td>\n",
       "      <td>1938100.0</td>\n",
       "    </tr>\n",
       "    <tr>\n",
       "      <th>851261</th>\n",
       "      <td>ZTS</td>\n",
       "      <td>53.639999</td>\n",
       "      <td>53.529999</td>\n",
       "      <td>53.270000</td>\n",
       "      <td>53.740002</td>\n",
       "      <td>1701200.0</td>\n",
       "    </tr>\n",
       "    <tr>\n",
       "      <th>851262</th>\n",
       "      <td>AIV</td>\n",
       "      <td>44.730000</td>\n",
       "      <td>45.450001</td>\n",
       "      <td>44.410000</td>\n",
       "      <td>45.590000</td>\n",
       "      <td>1380900.0</td>\n",
       "    </tr>\n",
       "    <tr>\n",
       "      <th>851263</th>\n",
       "      <td>FTV</td>\n",
       "      <td>54.200001</td>\n",
       "      <td>53.630001</td>\n",
       "      <td>53.389999</td>\n",
       "      <td>54.480000</td>\n",
       "      <td>705100.0</td>\n",
       "    </tr>\n",
       "  </tbody>\n",
       "</table>\n",
       "<p>851264 rows × 6 columns</p>\n",
       "</div>"
      ],
      "text/plain": [
       "       symbol        open       close         low        high     volume\n",
       "0        WLTW  123.430000  125.839996  122.309998  126.250000  2163600.0\n",
       "1        WLTW  125.239998  119.980003  119.940002  125.540001  2386400.0\n",
       "2        WLTW  116.379997  114.949997  114.930000  119.739998  2489500.0\n",
       "3        WLTW  115.480003  116.620003  113.500000  117.440002  2006300.0\n",
       "4        WLTW  117.010002  114.970001  114.089996  117.330002  1408600.0\n",
       "...       ...         ...         ...         ...         ...        ...\n",
       "851259    ZBH  103.309998  103.199997  102.849998  103.930000   973800.0\n",
       "851260   ZION   43.070000   43.040001   42.689999   43.310001  1938100.0\n",
       "851261    ZTS   53.639999   53.529999   53.270000   53.740002  1701200.0\n",
       "851262    AIV   44.730000   45.450001   44.410000   45.590000  1380900.0\n",
       "851263    FTV   54.200001   53.630001   53.389999   54.480000   705100.0\n",
       "\n",
       "[851264 rows x 6 columns]"
      ]
     },
     "execution_count": 5,
     "metadata": {},
     "output_type": "execute_result"
    }
   ],
   "source": [
    "df"
   ]
  },
  {
   "cell_type": "code",
   "execution_count": 6,
   "id": "10ee498f",
   "metadata": {},
   "outputs": [],
   "source": [
    "df.drop([\"symbol\"],axis=1,inplace=True)"
   ]
  },
  {
   "cell_type": "code",
   "execution_count": 21,
   "id": "f2c9639e",
   "metadata": {},
   "outputs": [
    {
     "data": {
      "text/html": [
       "<div>\n",
       "<style scoped>\n",
       "    .dataframe tbody tr th:only-of-type {\n",
       "        vertical-align: middle;\n",
       "    }\n",
       "\n",
       "    .dataframe tbody tr th {\n",
       "        vertical-align: top;\n",
       "    }\n",
       "\n",
       "    .dataframe thead th {\n",
       "        text-align: right;\n",
       "    }\n",
       "</style>\n",
       "<table border=\"1\" class=\"dataframe\">\n",
       "  <thead>\n",
       "    <tr style=\"text-align: right;\">\n",
       "      <th></th>\n",
       "      <th>open</th>\n",
       "      <th>close</th>\n",
       "      <th>low</th>\n",
       "      <th>high</th>\n",
       "      <th>volume</th>\n",
       "    </tr>\n",
       "  </thead>\n",
       "  <tbody>\n",
       "    <tr>\n",
       "      <th>open</th>\n",
       "      <td>1.000000</td>\n",
       "      <td>0.999849</td>\n",
       "      <td>0.999916</td>\n",
       "      <td>0.999930</td>\n",
       "      <td>-0.059950</td>\n",
       "    </tr>\n",
       "    <tr>\n",
       "      <th>close</th>\n",
       "      <td>0.999849</td>\n",
       "      <td>1.000000</td>\n",
       "      <td>0.999928</td>\n",
       "      <td>0.999927</td>\n",
       "      <td>-0.060154</td>\n",
       "    </tr>\n",
       "    <tr>\n",
       "      <th>low</th>\n",
       "      <td>0.999916</td>\n",
       "      <td>0.999928</td>\n",
       "      <td>1.000000</td>\n",
       "      <td>0.999892</td>\n",
       "      <td>-0.060760</td>\n",
       "    </tr>\n",
       "    <tr>\n",
       "      <th>high</th>\n",
       "      <td>0.999930</td>\n",
       "      <td>0.999927</td>\n",
       "      <td>0.999892</td>\n",
       "      <td>1.000000</td>\n",
       "      <td>-0.059452</td>\n",
       "    </tr>\n",
       "    <tr>\n",
       "      <th>volume</th>\n",
       "      <td>-0.059950</td>\n",
       "      <td>-0.060154</td>\n",
       "      <td>-0.060760</td>\n",
       "      <td>-0.059452</td>\n",
       "      <td>1.000000</td>\n",
       "    </tr>\n",
       "  </tbody>\n",
       "</table>\n",
       "</div>"
      ],
      "text/plain": [
       "            open     close       low      high    volume\n",
       "open    1.000000  0.999849  0.999916  0.999930 -0.059950\n",
       "close   0.999849  1.000000  0.999928  0.999927 -0.060154\n",
       "low     0.999916  0.999928  1.000000  0.999892 -0.060760\n",
       "high    0.999930  0.999927  0.999892  1.000000 -0.059452\n",
       "volume -0.059950 -0.060154 -0.060760 -0.059452  1.000000"
      ]
     },
     "execution_count": 21,
     "metadata": {},
     "output_type": "execute_result"
    }
   ],
   "source": [
    "df.corr()"
   ]
  },
  {
   "cell_type": "code",
   "execution_count": 7,
   "id": "d79d24bd",
   "metadata": {},
   "outputs": [
    {
     "data": {
      "text/plain": [
       "open      0\n",
       "close     0\n",
       "low       0\n",
       "high      0\n",
       "volume    0\n",
       "dtype: int64"
      ]
     },
     "execution_count": 7,
     "metadata": {},
     "output_type": "execute_result"
    }
   ],
   "source": [
    "df.isnull().sum()"
   ]
  },
  {
   "cell_type": "code",
   "execution_count": 8,
   "id": "7e81d06b",
   "metadata": {},
   "outputs": [
    {
     "data": {
      "text/plain": [
       "(851264, 5)"
      ]
     },
     "execution_count": 8,
     "metadata": {},
     "output_type": "execute_result"
    }
   ],
   "source": [
    "df.shape"
   ]
  },
  {
   "cell_type": "code",
   "execution_count": 9,
   "id": "859ac759",
   "metadata": {},
   "outputs": [],
   "source": [
    "from sklearn.model_selection import train_test_split\n",
    "\n",
    "X = df.drop(\"close\",axis=1)                                                           # MODEL BUILDING\n",
    "y = df[\"close\"]\n",
    "\n",
    "X_train,X_test,Y_train,Y_test = train_test_split(X,y,test_size=0.20,random_state=0)"
   ]
  },
  {
   "cell_type": "code",
   "execution_count": 10,
   "id": "a0120924",
   "metadata": {},
   "outputs": [],
   "source": [
    "from sklearn.preprocessing import StandardScaler\n",
    "sc=StandardScaler()\n",
    "X_train=sc.fit_transform(X_train)                                                      # Scaling\n",
    "X_test=sc.fit_transform(X_test)"
   ]
  },
  {
   "cell_type": "code",
   "execution_count": 11,
   "id": "ff37edd3",
   "metadata": {},
   "outputs": [],
   "source": [
    "from sklearn.metrics import r2_score,mean_squared_error"
   ]
  },
  {
   "cell_type": "code",
   "execution_count": 12,
   "id": "2add09f8",
   "metadata": {},
   "outputs": [],
   "source": [
    "from sklearn.linear_model import LinearRegression\n",
    "\n",
    "lr = LinearRegression()\n",
    "\n",
    "lr.fit(X_train,Y_train)                                                                   # TRAINING\n",
    "\n",
    "Y_pred_lr = lr.predict(X_test)"
   ]
  },
  {
   "cell_type": "code",
   "execution_count": 13,
   "id": "ef7bd2f7",
   "metadata": {},
   "outputs": [
    {
     "name": "stdout",
     "output_type": "stream",
     "text": [
      "The accuracy score achieved using Linear Regression is: 99.99%\n",
      "The MSE achieved using Linear Regression is: 0.6446288377545947\n"
     ]
    }
   ],
   "source": [
    "score_lr = round(r2_score(Y_pred_lr,Y_test)*100,2)\n",
    "mse=mean_squared_error(Y_pred_lr,Y_test)\n",
    "print(\"The accuracy score achieved using Linear Regression is: \"+str(score_lr)+ \"%\")     # Evaluation\n",
    "print(\"The MSE achieved using Linear Regression is: \"+str(mse))\n"
   ]
  },
  {
   "cell_type": "code",
   "execution_count": 14,
   "id": "4f2a6baf",
   "metadata": {},
   "outputs": [],
   "source": [
    "from keras.models import Sequential\n",
    "from keras.layers import Dense"
   ]
  },
  {
   "cell_type": "code",
   "execution_count": 15,
   "id": "59a1b795",
   "metadata": {},
   "outputs": [],
   "source": [
    "model = Sequential()\n",
    "model.add(Dense(64, input_dim=X_train.shape[1], activation='relu'))\n",
    "model.add(Dense(32, activation='relu'))\n",
    "model.add(Dense(16, activation='relu'))\n",
    "model.add(Dense(1, activation='linear'))\n",
    "\n",
    "\n",
    "model.compile(loss='mean_squared_error', optimizer='adam')"
   ]
  },
  {
   "cell_type": "code",
   "execution_count": 16,
   "id": "cf6b5362",
   "metadata": {},
   "outputs": [
    {
     "name": "stdout",
     "output_type": "stream",
     "text": [
      "Epoch 1/50\n",
      "21282/21282 [==============================] - 87s 4ms/step - loss: 62.8267\n",
      "Epoch 2/50\n",
      "21282/21282 [==============================] - 84s 4ms/step - loss: 1.9720\n",
      "Epoch 3/50\n",
      "21282/21282 [==============================] - 85s 4ms/step - loss: 1.7394\n",
      "Epoch 4/50\n",
      "21282/21282 [==============================] - 86s 4ms/step - loss: 1.5703\n",
      "Epoch 5/50\n",
      "21282/21282 [==============================] - 85s 4ms/step - loss: 1.4374\n",
      "Epoch 6/50\n",
      "21282/21282 [==============================] - 84s 4ms/step - loss: 1.4059\n",
      "Epoch 7/50\n",
      "21282/21282 [==============================] - 84s 4ms/step - loss: 1.3351\n",
      "Epoch 8/50\n",
      "21282/21282 [==============================] - 84s 4ms/step - loss: 1.1926\n",
      "Epoch 9/50\n",
      "21282/21282 [==============================] - 83s 4ms/step - loss: 1.0974\n",
      "Epoch 10/50\n",
      "21282/21282 [==============================] - 84s 4ms/step - loss: 1.0942\n",
      "Epoch 11/50\n",
      "21282/21282 [==============================] - 86s 4ms/step - loss: 1.0488\n",
      "Epoch 12/50\n",
      "21282/21282 [==============================] - 85s 4ms/step - loss: 0.9850\n",
      "Epoch 13/50\n",
      "21282/21282 [==============================] - 84s 4ms/step - loss: 0.9917\n",
      "Epoch 14/50\n",
      "21282/21282 [==============================] - 85s 4ms/step - loss: 0.9581\n",
      "Epoch 15/50\n",
      "21282/21282 [==============================] - 86s 4ms/step - loss: 0.9378\n",
      "Epoch 16/50\n",
      "21282/21282 [==============================] - 85s 4ms/step - loss: 0.9364\n",
      "Epoch 17/50\n",
      "21282/21282 [==============================] - 80s 4ms/step - loss: 0.9183\n",
      "Epoch 18/50\n",
      "21282/21282 [==============================] - 81s 4ms/step - loss: 0.8943\n",
      "Epoch 19/50\n",
      "21282/21282 [==============================] - 80s 4ms/step - loss: 0.9048\n",
      "Epoch 20/50\n",
      "21282/21282 [==============================] - 80s 4ms/step - loss: 0.9234\n",
      "Epoch 21/50\n",
      "21282/21282 [==============================] - 80s 4ms/step - loss: 0.9024\n",
      "Epoch 22/50\n",
      "21282/21282 [==============================] - 81s 4ms/step - loss: 0.8396\n",
      "Epoch 23/50\n",
      "21282/21282 [==============================] - 80s 4ms/step - loss: 0.8965\n",
      "Epoch 24/50\n",
      "21282/21282 [==============================] - 316s 15ms/step - loss: 0.8506\n",
      "Epoch 25/50\n",
      "21282/21282 [==============================] - 59s 3ms/step - loss: 0.8243\n",
      "Epoch 26/50\n",
      "21282/21282 [==============================] - 74s 3ms/step - loss: 0.8372\n",
      "Epoch 27/50\n",
      "21282/21282 [==============================] - 72s 3ms/step - loss: 0.8140\n",
      "Epoch 28/50\n",
      "21282/21282 [==============================] - 71s 3ms/step - loss: 0.7839\n",
      "Epoch 29/50\n",
      "21282/21282 [==============================] - 71s 3ms/step - loss: 0.8220\n",
      "Epoch 30/50\n",
      "21282/21282 [==============================] - 71s 3ms/step - loss: 0.8277\n",
      "Epoch 31/50\n",
      "21282/21282 [==============================] - 69s 3ms/step - loss: 0.8434\n",
      "Epoch 32/50\n",
      "21282/21282 [==============================] - 72s 3ms/step - loss: 0.7935\n",
      "Epoch 33/50\n",
      "21282/21282 [==============================] - 71s 3ms/step - loss: 0.7991\n",
      "Epoch 34/50\n",
      "21282/21282 [==============================] - 70s 3ms/step - loss: 0.7795\n",
      "Epoch 35/50\n",
      "21282/21282 [==============================] - 71s 3ms/step - loss: 0.7991\n",
      "Epoch 36/50\n",
      "21282/21282 [==============================] - 71s 3ms/step - loss: 0.7545\n",
      "Epoch 37/50\n",
      "21282/21282 [==============================] - 645s 30ms/step - loss: 0.7529\n",
      "Epoch 38/50\n",
      "21282/21282 [==============================] - 55s 3ms/step - loss: 0.7651\n",
      "Epoch 39/50\n",
      "21282/21282 [==============================] - 70s 3ms/step - loss: 0.7742\n",
      "Epoch 40/50\n",
      "21282/21282 [==============================] - 73s 3ms/step - loss: 0.7774\n",
      "Epoch 41/50\n",
      "21282/21282 [==============================] - 72s 3ms/step - loss: 0.7580\n",
      "Epoch 42/50\n",
      "21282/21282 [==============================] - 74s 3ms/step - loss: 0.7597\n",
      "Epoch 43/50\n",
      "21282/21282 [==============================] - 74s 3ms/step - loss: 0.7704\n",
      "Epoch 44/50\n",
      "21282/21282 [==============================] - 73s 3ms/step - loss: 0.7783\n",
      "Epoch 45/50\n",
      "21282/21282 [==============================] - 74s 3ms/step - loss: 0.7137\n",
      "Epoch 46/50\n",
      "21282/21282 [==============================] - 74s 3ms/step - loss: 0.7837\n",
      "Epoch 47/50\n",
      "21282/21282 [==============================] - 74s 3ms/step - loss: 0.7396\n",
      "Epoch 48/50\n",
      "21282/21282 [==============================] - 73s 3ms/step - loss: 0.7397\n",
      "Epoch 49/50\n",
      "21282/21282 [==============================] - 73s 3ms/step - loss: 0.7382\n",
      "Epoch 50/50\n",
      "21282/21282 [==============================] - 71s 3ms/step - loss: 0.7300\n"
     ]
    },
    {
     "data": {
      "text/plain": [
       "<keras.src.callbacks.History at 0x1f9fe8e5b20>"
      ]
     },
     "execution_count": 16,
     "metadata": {},
     "output_type": "execute_result"
    }
   ],
   "source": [
    "model.fit(X_train, Y_train, epochs=50, batch_size=32, verbose=1)"
   ]
  },
  {
   "cell_type": "code",
   "execution_count": 17,
   "id": "5c067a7b",
   "metadata": {},
   "outputs": [
    {
     "name": "stdout",
     "output_type": "stream",
     "text": [
      "5321/5321 [==============================] - 15s 3ms/step\n"
     ]
    }
   ],
   "source": [
    "\n",
    "Y_pred_ann = model.predict(X_test)"
   ]
  },
  {
   "cell_type": "code",
   "execution_count": 18,
   "id": "b9d135c1",
   "metadata": {},
   "outputs": [
    {
     "name": "stdout",
     "output_type": "stream",
     "text": [
      "The accuracy score achieved using ANN is: 99.99 %\n"
     ]
    }
   ],
   "source": [
    "score_ann = round(r2_score(Y_pred_ann,Y_test)*100,2)\n",
    "\n",
    "print(\"The accuracy score achieved using ANN is: \"+str(score_lr)+\" %\")\n",
    "\n"
   ]
  },
  {
   "cell_type": "code",
   "execution_count": 19,
   "id": "af788293",
   "metadata": {},
   "outputs": [],
   "source": [
    "mse=mean_squared_error(Y_pred_ann,Y_test)"
   ]
  },
  {
   "cell_type": "code",
   "execution_count": 20,
   "id": "d1f10de3",
   "metadata": {},
   "outputs": [
    {
     "name": "stdout",
     "output_type": "stream",
     "text": [
      "The MSE achieved using ANN is: 0.5836282552475494\n"
     ]
    }
   ],
   "source": [
    "\n",
    "print(\"The MSE achieved using ANN is: \"+str(mse))"
   ]
  },
  {
   "cell_type": "markdown",
   "id": "65f16956",
   "metadata": {},
   "source": [
    "# CONCLUSION:- AS YOU CAN SEE WE ACHIEVED 99.99% ACCURACY ON BOTH LINEAR AND ANN BUT AS WE CAN SEE THE AMOUNT OF LOSS HAS BEEN DECREASED ON ANN COMPARED TO CLASSIC LINEAR REGRESSION ALGORITHM"
   ]
  },
  {
   "cell_type": "code",
   "execution_count": null,
   "id": "15dc95fd",
   "metadata": {},
   "outputs": [],
   "source": []
  },
  {
   "cell_type": "code",
   "execution_count": null,
   "id": "25b9769d",
   "metadata": {},
   "outputs": [],
   "source": []
  },
  {
   "cell_type": "code",
   "execution_count": null,
   "id": "de843fb7",
   "metadata": {},
   "outputs": [],
   "source": []
  },
  {
   "cell_type": "code",
   "execution_count": null,
   "id": "6a5e5ae3",
   "metadata": {},
   "outputs": [],
   "source": []
  },
  {
   "cell_type": "code",
   "execution_count": null,
   "id": "eb2d567e",
   "metadata": {},
   "outputs": [],
   "source": []
  },
  {
   "cell_type": "code",
   "execution_count": null,
   "id": "3758f5b7",
   "metadata": {},
   "outputs": [],
   "source": []
  },
  {
   "cell_type": "code",
   "execution_count": null,
   "id": "6d5f418b",
   "metadata": {},
   "outputs": [],
   "source": []
  }
 ],
 "metadata": {
  "kernelspec": {
   "display_name": "Python 3 (ipykernel)",
   "language": "python",
   "name": "python3"
  },
  "language_info": {
   "codemirror_mode": {
    "name": "ipython",
    "version": 3
   },
   "file_extension": ".py",
   "mimetype": "text/x-python",
   "name": "python",
   "nbconvert_exporter": "python",
   "pygments_lexer": "ipython3",
   "version": "3.9.13"
  }
 },
 "nbformat": 4,
 "nbformat_minor": 5
}
